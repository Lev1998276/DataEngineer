{
  "nbformat": 4,
  "nbformat_minor": 0,
  "metadata": {
    "colab": {
      "provenance": []
    },
    "kernelspec": {
      "name": "python3",
      "display_name": "Python 3"
    },
    "language_info": {
      "name": "python"
    }
  },
  "cells": [
    {
      "cell_type": "code",
      "execution_count": null,
      "metadata": {
        "id": "zkw54D2eEAqL"
      },
      "outputs": [],
      "source": [
        "#TEMPLARE FOR CLASS METHOD\n",
        "\n",
        "class MyClass:\n",
        "    class_variable = \"I am a class variable\"\n",
        "\n",
        "    def __init__(self, instance_variable):\n",
        "        self.instance_variable = instance_variable\n",
        "\n",
        "    def instance_method(self):\n",
        "        print(f\"I am an instance method. Instance variable: {self.instance_variable}\")\n",
        "\n",
        "    @classmethod\n",
        "    def class_method(cls):\n",
        "        print(f\"I am a class method. Class variable: {cls.class_variable}\")\n",
        "\n",
        "\n",
        "# Example usage:\n",
        "obj = MyClass(\"Hello, instance!\")\n",
        "obj.instance_method()  # Call the instance method\n",
        "\n",
        "MyClass.class_method()  # Call the class method without creating an instance\n",
        "\n",
        "\n",
        "#EXAMPLE 1 WITH @CLASS DECORATOR\n",
        "\n",
        "class Dog:\n",
        "    total_dogs = 0  # Class variable to keep track of the total number of dogs\n",
        "\n",
        "    def __init__(self, name):\n",
        "        self.name = name\n",
        "        Dog.total_dogs += 1  # Increment the total_dogs count when a new dog is created\n",
        "\n",
        "    def bark(self):\n",
        "        print(f\"{self.name} says Woof!\")\n",
        "\n",
        "    @classmethod\n",
        "    def get_total_dogs(cls):\n",
        "        return cls.total_dogs\n",
        "\n",
        "# Example usage:\n",
        "dog1 = Dog(\"Buddy\")\n",
        "dog2 = Dog(\"Max\")\n",
        "print(f\"EXAMPLE 2 - > Total number of dogs: {Dog.get_total_dogs()}\")  # Access the total_dogs count using the class method\n",
        "\n",
        "\n",
        "\n",
        "#EXAMPLE 3 -- EXAMPLE 2 WITHOUT THE CLASS VARIABLE\n",
        "\n",
        "class Dog:\n",
        "    total_dogs = 0  # Class variable to keep track of the total number of dogs\n",
        "\n",
        "    def __init__(self, name):\n",
        "        self.name = name\n",
        "        Dog.total_dogs += 1  # Increment the total_dogs count when a new dog is created\n",
        "\n",
        "    def bark(self):\n",
        "        print(f\"{self.name} says Woof!\")\n",
        "\n",
        "# Example usage:\n",
        "dog1 = Dog(\"Buddy\")\n",
        "dog2 = Dog(\"Max\")\n",
        "print(f\"EXAMPLE 3- > Total number of dogs: {Dog.total_dogs}\")  # Access the total_dogs count using the class method"
      ]
    }
  ]
}