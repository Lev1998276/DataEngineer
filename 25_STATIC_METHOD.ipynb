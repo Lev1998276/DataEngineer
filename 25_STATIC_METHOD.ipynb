{
  "nbformat": 4,
  "nbformat_minor": 0,
  "metadata": {
    "colab": {
      "provenance": []
    },
    "kernelspec": {
      "name": "python3",
      "display_name": "Python 3"
    },
    "language_info": {
      "name": "python"
    }
  },
  "cells": [
    {
      "cell_type": "code",
      "execution_count": null,
      "metadata": {
        "id": "ZpNJ2CrBIMTb"
      },
      "outputs": [],
      "source": [
        "# Example 1: Factory Method without Class Method\n",
        "class Car:\n",
        "    def __init__(self, make, model):\n",
        "        self.make = make\n",
        "        self.model = model\n",
        "\n",
        "    @staticmethod\n",
        "    def create_from_string(car_string):\n",
        "        make, model = car_string.split(',')\n",
        "        return Car(make, model)\n",
        "\n",
        "# Example 2: Configuration Settings without Class Method\n",
        "class AppConfig:\n",
        "    debug_mode = False\n",
        "\n",
        "    @staticmethod\n",
        "    def enable_debug_mode():\n",
        "        AppConfig.debug_mode = True\n",
        "\n",
        "# Example 3: Alternative Constructor without Class Method\n",
        "class Rectangle:\n",
        "    def __init__(self, length, width):\n",
        "        self.length = length\n",
        "        self.width = width\n",
        "\n",
        "    @staticmethod\n",
        "    def create_square(side_length):\n",
        "        return Rectangle(side_length, side_length)\n",
        "\n",
        "# Example usage:\n",
        "\n",
        "# Example 1\n",
        "car1 = Car.create_from_string(\"Toyota,Camry\")\n",
        "print(car1.make, car1.model)\n",
        "\n",
        "# Example 2\n",
        "print(AppConfig.debug_mode)  # Output: False\n",
        "AppConfig.enable_debug_mode()\n",
        "print(AppConfig.debug_mode)  # Output: True\n",
        "\n",
        "# Example 3\n",
        "rectangle1 = Rectangle(5, 8)\n",
        "print(rectangle1.length, rectangle1.width)\n",
        "\n",
        "square = Rectangle.create_square(4)\n",
        "print(square.length, square.width)\n"
      ]
    }
  ]
}