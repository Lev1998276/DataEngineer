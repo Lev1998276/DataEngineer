{
  "nbformat": 4,
  "nbformat_minor": 0,
  "metadata": {
    "colab": {
      "provenance": []
    },
    "kernelspec": {
      "name": "python3",
      "display_name": "Python 3"
    },
    "language_info": {
      "name": "python"
    }
  },
  "cells": [
    {
      "cell_type": "code",
      "execution_count": null,
      "metadata": {
        "id": "Ql1aRNtW-cKM"
      },
      "outputs": [],
      "source": [
        "import os\n",
        "import pandas as pd\n",
        "import snowflake.connector\n",
        "\n",
        "# Snowflake connection parameters\n",
        "snowflake_config = {\n",
        "    'user': 'your_username',\n",
        "    'password': 'your_password',\n",
        "    'account': 'your_account_url',\n",
        "    'warehouse': 'your_warehouse',\n",
        "    'database': 'your_database',\n",
        "    'schema': 'your_schema',\n",
        "}\n",
        "\n",
        "# Function to create a Snowflake connection\n",
        "def create_snowflake_connection():\n",
        "    connection = snowflake.connector.connect(**snowflake_config)\n",
        "    return connection\n",
        "\n",
        "# Function to execute a Snowflake SQL statement\n",
        "def execute_sql(connection, sql):\n",
        "    cursor = connection.cursor()\n",
        "    cursor.execute(sql)\n",
        "    cursor.close()\n",
        "\n",
        "# Function to load CSV data into Snowflake table\n",
        "def load_csv_into_table(connection, table_name, csv_file_path):\n",
        "    sql = f\"\"\"\n",
        "    COPY INTO {table_name} FROM @%your_stage%\n",
        "    FILE_FORMAT = (TYPE = CSV FIELD_OPTIONALLY_ENCLOSED_BY='\"' SKIP_HEADER=1)\n",
        "    \"\"\"\n",
        "    connection.cursor().execute(sql, _data=csv_file_path)\n",
        "\n",
        "# Function to iterate over CSV files and load into Snowflake tables\n",
        "def load_csv_files_into_snowflake():\n",
        "    connection = create_snowflake_connection()\n",
        "\n",
        "    # Assume you have a reference table called 'csv_reference' with columns 'table_name' and 'file_name'\n",
        "    reference_sql = \"SELECT table_name, file_name FROM csv_reference\"\n",
        "\n",
        "    reference_df = pd.read_sql(reference_sql, connection)\n",
        "\n",
        "    for index, row in reference_df.iterrows():\n",
        "        table_name = row['table_name']\n",
        "        file_name = row['file_name']\n",
        "        file_path = os.path.join('/path/to/your/csv/files', file_name)  # Update the path to your CSV files\n",
        "\n",
        "        # Check if the CSV file exists\n",
        "        if not os.path.exists(file_path):\n",
        "            print(f\"File not found: {file_path}\")\n",
        "            continue\n",
        "\n",
        "        # Load CSV into Snowflake table\n",
        "        load_csv_into_table(connection, table_name, file_path)\n",
        "        print(f\"Data loaded into table {table_name} from file {file_path}\")\n",
        "\n",
        "    connection.close()\n",
        "\n",
        "if __name__ == \"__main__\":\n",
        "    load_csv_files_into_snowflake()\n"
      ]
    }
  ]
}